{
 "cells": [
  {
   "cell_type": "code",
   "execution_count": 1,
   "metadata": {},
   "outputs": [],
   "source": [
    "from User import Member, Librarian,pattern_recognition\n",
    "import User"
   ]
  },
  {
   "cell_type": "code",
   "execution_count": 2,
   "metadata": {},
   "outputs": [],
   "source": [
    "librarian = Librarian(\"Awantik\",\"Bangalore\",34,'asljlkj22','zeke101')"
   ]
  },
  {
   "cell_type": "code",
   "execution_count": 3,
   "metadata": {},
   "outputs": [],
   "source": [
    "m1 = Member(\"Vish\",\"Bangalore\",23,'asljlkj22','std123')\n",
    "m2 = Member(\"Yash\",\"Hassan\",22,'asljlkj12','std133')\n",
    "m3 = Member(\"Avinash\",\"Mangalore\",24,'asljlkj25','std132')\n",
    "m4 = Member(\"Mukesh\",\"Mysore\",23,'asljlkj52','std135')\n",
    "m5 = Member(\"Bhavish\",\"coorg\",24,'asljlkj82','std128')"
   ]
  },
  {
   "cell_type": "code",
   "execution_count": 4,
   "metadata": {},
   "outputs": [],
   "source": [
    "librarian.addBook('Shoe Dog','Phil Knight','2015',312,456)\n",
    "\n",
    "librarian.addBookItem('Shoe Dog',1,'H1B2')\n",
    "# librarian.addBookItem('Shoe Dog',2,'H1B2')\n",
    "# librarian.addBookItem('Shoe Dog',3,'H1B2')\n",
    "# librarian.addBookItem('Shoe Dog',4,'H1B2')\n",
    "# librarian.addBookItem('Shoe Dog',5,'H1B2')\n",
    "\n",
    "librarian.addBook('Python Tricks','Bader', '2017',309,263)\n",
    "\n",
    "librarian.addBookItem('Python Tricks',1,'H1B5')\n",
    "librarian.addBookItem('Python Tricks',2,'H1B5')\n",
    "librarian.addBookItem('Python Tricks',3,'H1B5')\n",
    "librarian.addBookItem('Python Tricks',4,'H1B5')\n",
    "librarian.addBookItem('Python Tricks',5,'H1B5')"
   ]
  },
  {
   "cell_type": "code",
   "execution_count": 7,
   "metadata": {},
   "outputs": [
    {
     "name": "stdout",
     "output_type": "stream",
     "text": [
      "Thank you Vish for using our library service\n"
     ]
    }
   ],
   "source": [
    "#m1.issueBook('Shoe Dog')\n",
    "m1.returnBook('Shoe Dog')"
   ]
  },
  {
   "cell_type": "code",
   "execution_count": 8,
   "metadata": {},
   "outputs": [
    {
     "name": "stdout",
     "output_type": "stream",
     "text": [
      "Yash  you have issued Shoe Dog  by  Phil Knight for Yourself\n"
     ]
    }
   ],
   "source": [
    "m2.issueBook('Shoe Dog')"
   ]
  },
  {
   "cell_type": "code",
   "execution_count": 9,
   "metadata": {},
   "outputs": [],
   "source": [
    "librarian.addBook('Moonwalking with Einstien','J Foer', '2017',318,123)\n",
    "\n",
    "librarian.addBookItem('Moonwalking with Einstien',1,'H1B3')\n",
    "librarian.addBookItem('Moonwalking with Einstien',2,'H1B3')\n",
    "librarian.addBookItem('Moonwalking with Einstien',3,'H1B3')\n",
    "librarian.addBookItem('Moonwalking with Einstien',4,'H1B3')\n",
    "librarian.addBookItem('Moonwalking with Einstien',5,'H1B3')\n",
    "\n",
    "librarian.addBook('Fluent Python','Luciano', '2017',300,243)\n",
    "\n",
    "librarian.addBookItem('Fluent Python',1,'H1B4')\n",
    "librarian.addBookItem('Fluent Python',2,'H1B4')\n",
    "librarian.addBookItem('Fluent Python',3,'H1B4')\n",
    "librarian.addBookItem('Fluent Python',4,'H1B4')\n",
    "librarian.addBookItem('Fluent Python',5,'H1B4')"
   ]
  },
  {
   "cell_type": "code",
   "execution_count": 10,
   "metadata": {},
   "outputs": [
    {
     "name": "stdout",
     "output_type": "stream",
     "text": [
      "Vish  you have issued Moonwalking with Einstien  by  J Foer for Yourself\n",
      "Thank you Vish for using our library service\n",
      "Yash  you have issued Moonwalking with Einstien  by  J Foer for Yourself\n",
      "Thank you Yash for using our library service\n",
      "Bhavish  you have issued Fluent Python  by  Luciano for Yourself\n",
      "Thank you Bhavish for using our library service\n",
      "Mukesh  you have issued Python Tricks  by  Bader for Yourself\n",
      "Thank you Mukesh for using our library service\n",
      "Bhavish  you have issued Python Tricks  by  Bader for Yourself\n",
      "Thank you Bhavish for using our library service\n",
      "Vish  you have issued Fluent Python  by  Luciano for Yourself\n",
      "Thank you Vish for using our library service\n",
      "Yash  you have issued Python Tricks  by  Bader for Yourself\n",
      "Thank you Yash for using our library service\n",
      "Yash  you have issued Python Tricks  by  Bader for Yourself\n",
      "Thank you Yash for using our library service\n"
     ]
    }
   ],
   "source": [
    "m1.issueBook('Moonwalking with Einstien')\n",
    "m1.returnBook('Moonwalking with Einstien')\n",
    "\n",
    "m2.issueBook('Moonwalking with Einstien')\n",
    "m2.returnBook('Moonwalking with Einstien')\n",
    "\n",
    "m5.issueBook('Fluent Python')\n",
    "m5.returnBook('Fluent Python')\n",
    "\n",
    "m4.issueBook('Python Tricks')\n",
    "m4.returnBook('Python Tricks')\n",
    "\n",
    "m5.issueBook('Python Tricks')\n",
    "m5.returnBook('Python Tricks')\n",
    "\n",
    "\n",
    "m1.issueBook('Fluent Python')\n",
    "m1.returnBook('Fluent Python')\n",
    "\n",
    "m2.issueBook('Python Tricks')\n",
    "m2.returnBook('Python Tricks')\n",
    "\n",
    "m2.issueBook('Python Tricks')\n",
    "m2.returnBook('Python Tricks')"
   ]
  },
  {
   "cell_type": "code",
   "execution_count": 11,
   "metadata": {},
   "outputs": [
    {
     "name": "stdout",
     "output_type": "stream",
     "text": [
      "sorry  Shoe Dog  This book is not-available right now ,Please try again after some time\n",
      "Thank you Avinash for using our library service\n",
      "Mukesh  you have issued Fluent Python  by  Luciano for Yourself\n",
      "Thank you Mukesh for using our library service\n",
      "Yash  you have issued Moonwalking with Einstien  by  J Foer for Yourself\n",
      "Thank you Yash for using our library service\n",
      "Bhavish  you have issued Shoe Dog  by  Phil Knight for Yourself\n",
      "Thank you Bhavish for using our library service\n",
      "Vish  you have issued Fluent Python  by  Luciano for Yourself\n",
      "Thank you Vish for using our library service\n",
      "Yash  you have issued Moonwalking with Einstien  by  J Foer for Yourself\n",
      "Thank you Yash for using our library service\n",
      "Avinash  you have issued Fluent Python  by  Luciano for Yourself\n",
      "Thank you Avinash for using our library service\n",
      "Mukesh  you have issued Shoe Dog  by  Phil Knight for Yourself\n",
      "Thank you Mukesh for using our library service\n",
      "Yash  you have issued Moonwalking with Einstien  by  J Foer for Yourself\n",
      "Thank you Yash for using our library service\n"
     ]
    }
   ],
   "source": [
    "m3.issueBook('Shoe Dog')\n",
    "m3.returnBook('Shoe Dog')\n",
    "\n",
    "m4.issueBook('Fluent Python')\n",
    "m4.returnBook('Fluent Python')\n",
    "\n",
    "m2.issueBook('Moonwalking with Einstien')\n",
    "m2.returnBook('Moonwalking with Einstien')\n",
    "\n",
    "m5.issueBook('Shoe Dog')\n",
    "m5.returnBook('Shoe Dog')\n",
    "\n",
    "m1.issueBook('Fluent Python')\n",
    "m1.returnBook('Fluent Python')\n",
    "\n",
    "m2.issueBook('Moonwalking with Einstien')\n",
    "m2.returnBook('Moonwalking with Einstien')\n",
    "\n",
    "m3.issueBook('Fluent Python')\n",
    "m3.returnBook('Fluent Python')\n",
    "\n",
    "m4.issueBook('Shoe Dog')\n",
    "m4.returnBook('Shoe Dog')\n",
    "m2.issueBook('Moonwalking with Einstien')\n",
    "m2.returnBook('Moonwalking with Einstien')"
   ]
  },
  {
   "cell_type": "code",
   "execution_count": null,
   "metadata": {},
   "outputs": [],
   "source": []
  },
  {
   "cell_type": "code",
   "execution_count": null,
   "metadata": {},
   "outputs": [],
   "source": []
  },
  {
   "cell_type": "code",
   "execution_count": 12,
   "metadata": {},
   "outputs": [],
   "source": [
    "pattern = pattern_recognition()"
   ]
  },
  {
   "cell_type": "code",
   "execution_count": 13,
   "metadata": {},
   "outputs": [
    {
     "name": "stdout",
     "output_type": "stream",
     "text": [
      "Moonwalking with Einstien have 5 readers\n",
      "Fluent Python have 5 readers\n",
      "Shoe Dog have 4 readers\n",
      "Python Tricks have 4 readers\n"
     ]
    }
   ],
   "source": [
    "pattern.popular_books()"
   ]
  },
  {
   "cell_type": "code",
   "execution_count": 14,
   "metadata": {},
   "outputs": [
    {
     "name": "stdout",
     "output_type": "stream",
     "text": [
      "Author Luciano have 5 readers\n",
      "Author J Foer have 5 readers\n",
      "Author Phil Knight have 4 readers\n",
      "Author Bader have 4 readers\n"
     ]
    }
   ],
   "source": [
    "pattern.popular_authors()"
   ]
  },
  {
   "cell_type": "code",
   "execution_count": 15,
   "metadata": {},
   "outputs": [
    {
     "name": "stdout",
     "output_type": "stream",
     "text": [
      "student Yash have readed 7 books\n",
      "student Vish have readed 4 books\n",
      "student Mukesh have readed 3 books\n",
      "student Bhavish have readed 3 books\n",
      "student Avinash have readed 1 books\n"
     ]
    }
   ],
   "source": [
    "pattern.good_readers()"
   ]
  },
  {
   "cell_type": "code",
   "execution_count": null,
   "metadata": {},
   "outputs": [],
   "source": []
  },
  {
   "cell_type": "code",
   "execution_count": null,
   "metadata": {},
   "outputs": [],
   "source": []
  },
  {
   "cell_type": "code",
   "execution_count": null,
   "metadata": {},
   "outputs": [],
   "source": []
  },
  {
   "cell_type": "code",
   "execution_count": null,
   "metadata": {},
   "outputs": [],
   "source": []
  }
 ],
 "metadata": {
  "kernelspec": {
   "display_name": "Python 3",
   "language": "python",
   "name": "python3"
  },
  "language_info": {
   "codemirror_mode": {
    "name": "ipython",
    "version": 3
   },
   "file_extension": ".py",
   "mimetype": "text/x-python",
   "name": "python",
   "nbconvert_exporter": "python",
   "pygments_lexer": "ipython3",
   "version": "3.9.0"
  }
 },
 "nbformat": 4,
 "nbformat_minor": 4
}
